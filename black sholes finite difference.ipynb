{
 "cells": [
  {
   "cell_type": "code",
   "execution_count": 416,
   "metadata": {},
   "outputs": [],
   "source": [
    "import csv\n",
    "import math\n",
    "import numpy as np\n",
    "import pandas as pd\n",
    "import locale"
   ]
  },
  {
   "cell_type": "code",
   "execution_count": 417,
   "metadata": {},
   "outputs": [],
   "source": [
    "def BlackScholesFD(file_path, K, r, T):\n",
    "    results = []\n",
    "    locale.setlocale(locale.LC_ALL, 'en_US.UTF8')\n",
    "    \n",
    "    with open(file_path) as csvfile:\n",
    "        reader = csv.reader(csvfile)\n",
    "        for row in reader:\n",
    "            results.append(row)\n",
    "            \n",
    "    S = [None]*(len(results) - 1)\n",
    "    date = [None]*(len(results) - 1)\n",
    "    for i in range(1,len(results)):\n",
    "        S[i-1] = locale.atof(results[i][1].strip(\" $\"))\n",
    "        date[i-1] = results[i][0]\n",
    "    \n",
    "    S.reverse()\n",
    "    date.reverse()\n",
    "\n",
    "    mu = sum(S)/len(S)\n",
    "    i = 0\n",
    "    deviations = [None]*len(S)\n",
    "    \n",
    "    for i in range(len(S)):\n",
    "        deviations[i] = (S[i] - mu)**2\n",
    "    i=0\n",
    "       \n",
    "    var = sum(deviations)/len(S)\n",
    "    SIGMA = math.sqrt(var)/mu\n",
    "    \n",
    "    ds = max(S)/96\n",
    "    dt = 1/(len(date) - 1)\n",
    "    \n",
    "    NTS = int(T / dt) + 1\n",
    "    dt = T / NTS\n",
    "    \n",
    "    value_matrix = np.zeros((97, int(NTS)))\n",
    "    asset_price = np.arange(NAS*ds,-1,-ds)\n",
    "\n",
    "    value_matrix[:,-1]= np.maximum(asset_price - K,0)\n",
    "\n",
    "    for x in range(1,NTS):\n",
    "        value_matrix[-1,-x-1] = value_matrix[-1,-x]* math.exp(-r*dt)\n",
    "    x=0    \n",
    "\n",
    "    for x in range(1,NTS):\n",
    "        for y in range(1,int(96)):\n",
    "            Delta = (value_matrix[y-1,-x] - value_matrix[y+1,-x]) / 2 / ds\n",
    "            Gamma = (value_matrix[y-1,-x] - (2 * value_matrix[y,-x]) + value_matrix[y+1,-x]) / ds / ds\n",
    "            Theta = (-.5 * SIGMA**2 * asset_price[y]**2 * Gamma) - (r * asset_price[y] * Delta) + (r * value_matrix[y,-x])\n",
    "        \n",
    "            value_matrix[y,-x-1] = value_matrix[y,-x] - Theta * dt\n",
    "\n",
    "            value_matrix[0,-x-1] = 2 * value_matrix[1,-x-1] - value_matrix[2,-x-1] \n",
    "        \n",
    "    i = 0\n",
    "    F = []\n",
    "    for i in range(len(S)):\n",
    "        for j in range(len(asset_price)):\n",
    "            if abs(S[i] - asset_price[j]) < ds/2:\n",
    "                F.append(round(value_matrix[j][i],2))\n",
    "            \n",
    "    np_array = np.transpose([date, S, F])\n",
    "    new_file = file_path.replace('.csv', 'withcalloptionpricesfromfinitedifference.csv')\n",
    "\n",
    "    return pd.DataFrame(np_array).to_csv(new_file, header = [\"Time\", \"Stock Price\", \"Call Option Price from Finite Difference\"], index = None)"
   ]
  },
  {
   "cell_type": "code",
   "execution_count": 418,
   "metadata": {},
   "outputs": [],
   "source": [
    "BlackScholesFD(r\"C:\\Users\\drumm\\Documents\\call option pricing\\nvdiastockprice6months.csv\", 190, 0.065, 1)"
   ]
  },
  {
   "cell_type": "code",
   "execution_count": null,
   "metadata": {},
   "outputs": [],
   "source": []
  }
 ],
 "metadata": {
  "kernelspec": {
   "display_name": "Python 3",
   "language": "python",
   "name": "python3"
  },
  "language_info": {
   "codemirror_mode": {
    "name": "ipython",
    "version": 3
   },
   "file_extension": ".py",
   "mimetype": "text/x-python",
   "name": "python",
   "nbconvert_exporter": "python",
   "pygments_lexer": "ipython3",
   "version": "3.7.3"
  }
 },
 "nbformat": 4,
 "nbformat_minor": 2
}
